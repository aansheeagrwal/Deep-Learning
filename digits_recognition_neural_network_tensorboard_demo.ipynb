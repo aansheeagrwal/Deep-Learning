{
  "nbformat": 4,
  "nbformat_minor": 0,
  "metadata": {
    "colab": {
      "provenance": [],
      "authorship_tag": "ABX9TyP6SlT97SN6Zgs7cpg3Uv+m",
      "include_colab_link": true
    },
    "kernelspec": {
      "name": "python3",
      "display_name": "Python 3"
    },
    "language_info": {
      "name": "python"
    }
  },
  "cells": [
    {
      "cell_type": "markdown",
      "metadata": {
        "id": "view-in-github",
        "colab_type": "text"
      },
      "source": [
        "<a href=\"https://colab.research.google.com/github/aansheeagrwal/Deep-Learning/blob/main/digits_recognition_neural_network_tensorboard_demo.ipynb\" target=\"_parent\"><img src=\"https://colab.research.google.com/assets/colab-badge.svg\" alt=\"Open In Colab\"/></a>"
      ]
    },
    {
      "cell_type": "markdown",
      "source": [
        "**Tensorboard demo using handwritten digits classification using neural network**"
      ],
      "metadata": {
        "id": "dRhmypuw97Mi"
      }
    },
    {
      "cell_type": "markdown",
      "source": [
        "In this notebook we will classify handwritten digits using a simple neural network which has only input and output layers. We will than add a hidden layer and see how the performance of the model improves"
      ],
      "metadata": {
        "id": "ZcF64CqA9_lw"
      }
    },
    {
      "cell_type": "code",
      "execution_count": 1,
      "metadata": {
        "id": "Ah-2ogEb8rpI"
      },
      "outputs": [],
      "source": [
        "import tensorflow as tf\n",
        "from tensorflow import keras\n",
        "import matplotlib.pyplot as plt\n",
        "%matplotlib inline\n",
        "import numpy as np\n"
      ]
    },
    {
      "cell_type": "code",
      "source": [
        "(X_train, y_train) , (X_test, y_test) = keras.datasets.mnist.load_data()\n"
      ],
      "metadata": {
        "colab": {
          "base_uri": "https://localhost:8080/"
        },
        "id": "aKBLioJi-E8W",
        "outputId": "4d3e055e-aa9e-4954-afa9-20b538c7f8b8"
      },
      "execution_count": 2,
      "outputs": [
        {
          "output_type": "stream",
          "name": "stdout",
          "text": [
            "Downloading data from https://storage.googleapis.com/tensorflow/tf-keras-datasets/mnist.npz\n",
            "\u001b[1m11490434/11490434\u001b[0m \u001b[32m━━━━━━━━━━━━━━━━━━━━\u001b[0m\u001b[37m\u001b[0m \u001b[1m0s\u001b[0m 0us/step\n"
          ]
        }
      ]
    },
    {
      "cell_type": "code",
      "source": [
        "len(X_train)"
      ],
      "metadata": {
        "colab": {
          "base_uri": "https://localhost:8080/"
        },
        "id": "KgGKZ4Xl-HWn",
        "outputId": "1c0feb48-7777-46a7-80c6-6be2b6fdc54b"
      },
      "execution_count": 3,
      "outputs": [
        {
          "output_type": "execute_result",
          "data": {
            "text/plain": [
              "60000"
            ]
          },
          "metadata": {},
          "execution_count": 3
        }
      ]
    },
    {
      "cell_type": "code",
      "source": [
        "len(X_test)"
      ],
      "metadata": {
        "colab": {
          "base_uri": "https://localhost:8080/"
        },
        "id": "CPh7FhSx-JXR",
        "outputId": "4120a519-f87b-4ecb-a4f4-6f0a5c08f801"
      },
      "execution_count": 4,
      "outputs": [
        {
          "output_type": "execute_result",
          "data": {
            "text/plain": [
              "10000"
            ]
          },
          "metadata": {},
          "execution_count": 4
        }
      ]
    },
    {
      "cell_type": "code",
      "source": [
        "X_train[0].shape"
      ],
      "metadata": {
        "colab": {
          "base_uri": "https://localhost:8080/"
        },
        "id": "g02fCgUC-Lg5",
        "outputId": "1047dc94-0697-4a31-ec8e-4ba268bcff73"
      },
      "execution_count": 5,
      "outputs": [
        {
          "output_type": "execute_result",
          "data": {
            "text/plain": [
              "(28, 28)"
            ]
          },
          "metadata": {},
          "execution_count": 5
        }
      ]
    },
    {
      "cell_type": "code",
      "source": [
        "plt.matshow(X_train[0])"
      ],
      "metadata": {
        "colab": {
          "base_uri": "https://localhost:8080/",
          "height": 454
        },
        "id": "f0y7NjqD-Nps",
        "outputId": "8ce3dbfb-5b1c-4fcf-ecd2-2c77e21e5b17"
      },
      "execution_count": 6,
      "outputs": [
        {
          "output_type": "execute_result",
          "data": {
            "text/plain": [
              "<matplotlib.image.AxesImage at 0x7c2ff1070690>"
            ]
          },
          "metadata": {},
          "execution_count": 6
        },
        {
          "output_type": "display_data",
          "data": {
            "text/plain": [
              "<Figure size 480x480 with 1 Axes>"
            ],
            "image/png": "[encoded data removed]"
          },
          "metadata": {}
        }
      ]
    },
    {
      "cell_type": "code",
      "source": [
        "y_train[0]"
      ],
      "metadata": {
        "colab": {
          "base_uri": "https://localhost:8080/"
        },
        "id": "t2AUTokv-PoF",
        "outputId": "822c99c0-e640-45a7-fc7b-f35857e69554"
      },
      "execution_count": 7,
      "outputs": [
        {
          "output_type": "execute_result",
          "data": {
            "text/plain": [
              "np.uint8(5)"
            ]
          },
          "metadata": {},
          "execution_count": 7
        }
      ]
    },
    {
      "cell_type": "code",
      "source": [
        "X_train = X_train / 255\n",
        "X_test = X_test / 255"
      ],
      "metadata": {
        "id": "dyPPZCHT-SJx"
      },
      "execution_count": 8,
      "outputs": []
    },
    {
      "cell_type": "code",
      "source": [
        "X_train_flattened = X_train.reshape(len(X_train), 28*28)\n",
        "X_test_flattened = X_test.reshape(len(X_test), 28*28)"
      ],
      "metadata": {
        "id": "tmevLH8C-T2W"
      },
      "execution_count": 9,
      "outputs": []
    },
    {
      "cell_type": "code",
      "source": [
        "X_train_flattened.shape"
      ],
      "metadata": {
        "colab": {
          "base_uri": "https://localhost:8080/"
        },
        "id": "ReYMe9Qu-Vyt",
        "outputId": "2a490c2a-a376-4260-ea19-2da059a9267a"
      },
      "execution_count": 10,
      "outputs": [
        {
          "output_type": "execute_result",
          "data": {
            "text/plain": [
              "(60000, 784)"
            ]
          },
          "metadata": {},
          "execution_count": 10
        }
      ]
    },
    {
      "cell_type": "markdown",
      "source": [
        "Using Flatten layer so that we don't have to call .reshape on input dataset"
      ],
      "metadata": {
        "id": "_X7wU_EM-ZXh"
      }
    },
    {
      "cell_type": "code",
      "source": [
        "model = keras.Sequential([\n",
        "    keras.layers.Flatten(input_shape=(28, 28)),\n",
        "    keras.layers.Dense(100, activation='relu'),\n",
        "    keras.layers.Dense(10, activation='sigmoid')\n",
        "])\n",
        "\n",
        "model.compile(optimizer='adam',\n",
        "              loss='sparse_categorical_crossentropy',\n",
        "              metrics=['accuracy'])\n",
        "\n",
        "tb_callback = tf.keras.callbacks.TensorBoard(log_dir=\"logs/\", histogram_freq=1)\n",
        "\n",
        "model.fit(X_train, y_train, epochs=5, callbacks=[tb_callback])"
      ],
      "metadata": {
        "colab": {
          "base_uri": "https://localhost:8080/"
        },
        "id": "CPhMyrex-cR9",
        "outputId": "4e49ef61-9e34-4c0a-e985-f9e6f7f04202"
      },
      "execution_count": 11,
      "outputs": [
        {
          "output_type": "stream",
          "name": "stderr",
          "text": [
            "/usr/local/lib/python3.11/dist-packages/keras/src/layers/reshaping/flatten.py:37: UserWarning: Do not pass an `input_shape`/`input_dim` argument to a layer. When using Sequential models, prefer using an `Input(shape)` object as the first layer in the model instead.\n",
            "  super().__init__(**kwargs)\n"
          ]
        },
        {
          "output_type": "stream",
          "name": "stdout",
          "text": [
            "Epoch 1/5\n",
            "\u001b[1m1875/1875\u001b[0m \u001b[32m━━━━━━━━━━━━━━━━━━━━\u001b[0m\u001b[37m\u001b[0m \u001b[1m13s\u001b[0m 6ms/step - accuracy: 0.8764 - loss: 0.4436\n",
            "Epoch 2/5\n",
            "\u001b[1m1875/1875\u001b[0m \u001b[32m━━━━━━━━━━━━━━━━━━━━\u001b[0m\u001b[37m\u001b[0m \u001b[1m13s\u001b[0m 7ms/step - accuracy: 0.9627 - loss: 0.1253\n",
            "Epoch 3/5\n",
            "\u001b[1m1875/1875\u001b[0m \u001b[32m━━━━━━━━━━━━━━━━━━━━\u001b[0m\u001b[37m\u001b[0m \u001b[1m18s\u001b[0m 6ms/step - accuracy: 0.9742 - loss: 0.0857\n",
            "Epoch 4/5\n",
            "\u001b[1m1875/1875\u001b[0m \u001b[32m━━━━━━━━━━━━━━━━━━━━\u001b[0m\u001b[37m\u001b[0m \u001b[1m20s\u001b[0m 6ms/step - accuracy: 0.9805 - loss: 0.0622\n",
            "Epoch 5/5\n",
            "\u001b[1m1875/1875\u001b[0m \u001b[32m━━━━━━━━━━━━━━━━━━━━\u001b[0m\u001b[37m\u001b[0m \u001b[1m10s\u001b[0m 6ms/step - accuracy: 0.9844 - loss: 0.0498\n"
          ]
        },
        {
          "output_type": "execute_result",
          "data": {
            "text/plain": [
              "<keras.src.callbacks.history.History at 0x7c2ff1d9f290>"
            ]
          },
          "metadata": {},
          "execution_count": 11
        }
      ]
    },
    {
      "cell_type": "code",
      "source": [
        "model.get_weights()"
      ],
      "metadata": {
        "colab": {
          "base_uri": "https://localhost:8080/"
        },
        "id": "XvSL0NUR-hxa",
        "outputId": "bd98499a-713c-453b-d7f5-a08ede679bc8"
      },
      "execution_count": 12,
      "outputs": [
        {
          "output_type": "execute_result",
          "data": {
            "text/plain": [
              "[array([[ 0.05207722,  0.07744008,  0.06206849, ..., -0.02244366,\n",
              "         -0.07850391,  0.02700929],\n",
              "        [ 0.06170635, -0.02970665,  0.04692732, ...,  0.07600911,\n",
              "          0.07710405,  0.03238562],\n",
              "        [ 0.03701065,  0.05187485, -0.0693741 , ...,  0.04296969,\n",
              "          0.02810856, -0.04886359],\n",
              "        ...,\n",
              "        [-0.04535494,  0.03198196, -0.04641395, ..., -0.04766496,\n",
              "          0.03162349, -0.04159802],\n",
              "        [-0.07660523, -0.0530477 ,  0.00139163, ...,  0.03697088,\n",
              "         -0.04195154,  0.07588781],\n",
              "        [ 0.07128319, -0.07100214,  0.05485785, ..., -0.04332455,\n",
              "         -0.08015854, -0.02385619]], dtype=float32),\n",
              " array([ 0.24871357,  0.0365502 ,  0.1058087 ,  0.09588115,  0.02735526,\n",
              "         0.05814555, -0.03821791, -0.09170327,  0.08528053,  0.00557327,\n",
              "         0.07582598, -0.00744127,  0.08708853,  0.01993446,  0.14523834,\n",
              "         0.09107932, -0.04965496, -0.03834689,  0.05886082,  0.09574555,\n",
              "        -0.04137878,  0.12088531,  0.02366635,  0.09708546, -0.03519781,\n",
              "         0.04785993, -0.10594783,  0.11341451,  0.02647426,  0.01228383,\n",
              "        -0.01344795, -0.01348244, -0.10316537, -0.02759931,  0.16795933,\n",
              "         0.04504863,  0.09818357, -0.00265825,  0.02281076,  0.01273423,\n",
              "         0.12146609, -0.00970184, -0.00845309,  0.11700677,  0.08526315,\n",
              "         0.08872612,  0.05288061, -0.01063093,  0.0270616 ,  0.0114905 ,\n",
              "        -0.05467835, -0.02354627, -0.02776805,  0.04746963,  0.1724149 ,\n",
              "         0.00732321, -0.04517037,  0.20747   ,  0.1234009 , -0.05116427,\n",
              "         0.06439213, -0.05021277, -0.04046948,  0.07573281,  0.1253359 ,\n",
              "         0.03610579,  0.00899011,  0.09558581, -0.04181868, -0.05068781,\n",
              "         0.18578893,  0.0916765 ,  0.14535141, -0.01504961, -0.0517004 ,\n",
              "        -0.00460836, -0.0185436 ,  0.05129636,  0.02249246, -0.00075351,\n",
              "         0.16572918, -0.06561628, -0.05477654,  0.00536393,  0.02181367,\n",
              "         0.02003855, -0.01526001, -0.08112751, -0.02228792,  0.04043613,\n",
              "         0.04878529,  0.14985934, -0.03713429, -0.08851661,  0.07474163,\n",
              "         0.08665831,  0.13204567, -0.0071944 , -0.01868382,  0.01458054],\n",
              "       dtype=float32),\n",
              " array([[-1.59063816e-01, -3.60292077e-01,  1.49216160e-01,\n",
              "         -1.98420241e-01, -1.27849609e-01,  4.65653747e-01,\n",
              "         -3.04982781e-01,  5.79743803e-01, -5.70159853e-01,\n",
              "         -2.27349281e-01],\n",
              "        [-2.81219184e-01,  8.57522897e-03,  2.09771916e-01,\n",
              "         -3.95253934e-02, -5.29158294e-01,  1.44463554e-01,\n",
              "         -5.92185296e-02, -4.25537735e-01, -6.14393391e-02,\n",
              "         -4.18223083e-01],\n",
              "        [-3.58440757e-01,  8.45681876e-02,  1.48878485e-01,\n",
              "          1.60729349e-01, -3.97082239e-01,  3.59746486e-01,\n",
              "          2.83256173e-01, -4.01571169e-02,  7.56521374e-02,\n",
              "         -6.96655154e-01],\n",
              "        [-2.65648693e-01,  2.79488489e-02, -9.53465402e-01,\n",
              "          2.12682068e-01,  2.14908436e-01,  3.16861421e-01,\n",
              "         -1.52544647e-01, -3.19196492e-01, -6.84685856e-02,\n",
              "          2.41979718e-01],\n",
              "        [-4.51995015e-01, -1.83442533e-02, -4.45504844e-01,\n",
              "          1.29762664e-01, -1.77995220e-01,  3.55921127e-02,\n",
              "          2.13904276e-01, -2.48421535e-01,  2.44962405e-02,\n",
              "         -2.63294607e-01],\n",
              "        [ 5.77274039e-02, -2.62881041e-01,  3.84168088e-01,\n",
              "         -1.89980902e-02, -5.87191701e-01,  3.26476634e-01,\n",
              "          2.15412542e-01,  2.63208956e-01, -8.85844305e-02,\n",
              "         -5.24324834e-01],\n",
              "        [ 3.39314878e-01,  3.43032703e-02, -2.11698905e-01,\n",
              "          2.73106009e-01, -2.14826703e-01,  7.18849599e-02,\n",
              "          2.77513921e-01, -4.67057556e-01,  2.87259445e-02,\n",
              "         -3.60417157e-01],\n",
              "        [ 3.27989489e-01, -1.60020113e-01,  3.17001730e-01,\n",
              "          3.89684886e-02, -5.09417176e-01, -3.54461282e-01,\n",
              "          1.11677945e-01, -2.26092339e-01,  2.70950675e-01,\n",
              "          2.94571966e-01],\n",
              "        [-3.54937077e-01,  4.56948727e-01,  7.19864527e-03,\n",
              "          1.48034975e-01,  5.85181117e-01, -1.03735018e+00,\n",
              "         -8.93998295e-02,  2.26179630e-01, -3.71123493e-01,\n",
              "         -3.40316743e-01],\n",
              "        [ 3.14361155e-01,  7.35605955e-02,  1.09464332e-01,\n",
              "         -4.17329252e-01,  8.66946205e-02, -1.54964164e-01,\n",
              "          4.13659275e-01,  1.10307254e-01,  3.52964699e-01,\n",
              "         -5.94923139e-01],\n",
              "        [-1.34229094e-01, -3.01435471e-01, -5.62996650e-03,\n",
              "         -5.07190004e-02, -1.56251058e-01, -6.66424483e-02,\n",
              "          2.48706073e-01, -4.04424548e-01,  1.97120875e-01,\n",
              "         -2.11891547e-01],\n",
              "        [-5.95975876e-01,  2.13427499e-01,  1.47082210e-01,\n",
              "          3.03820729e-01,  3.24088931e-01, -2.55261153e-01,\n",
              "         -4.91478741e-01,  6.67506382e-02,  1.81349561e-01,\n",
              "          1.48543715e-01],\n",
              "        [-3.29160124e-01, -4.65256602e-01, -4.22462106e-01,\n",
              "         -3.17739725e-01, -1.22349232e-01,  2.47303978e-01,\n",
              "          2.97022432e-01, -2.92961389e-01,  2.01593772e-01,\n",
              "          1.93098962e-01],\n",
              "        [ 1.63575351e-01, -4.21085685e-01,  1.58997566e-01,\n",
              "         -1.95253462e-01, -3.01453620e-01, -1.27180040e-01,\n",
              "          1.16599351e-01,  2.27020308e-01, -6.21661134e-02,\n",
              "          1.06594607e-01],\n",
              "        [-4.46783155e-01, -9.51971486e-02,  2.14713573e-01,\n",
              "          8.97238180e-02,  2.56608844e-01, -4.32243831e-02,\n",
              "         -1.59859881e-01,  3.17612320e-01, -4.47643280e-01,\n",
              "          2.25157470e-01],\n",
              "        [-2.51974016e-01, -3.09202045e-01, -4.68627177e-02,\n",
              "         -8.29234719e-02,  1.44241691e-01,  1.73596263e-01,\n",
              "          2.94453353e-02,  2.09316555e-02, -3.05211265e-02,\n",
              "          1.39078245e-01],\n",
              "        [-3.70980799e-02,  2.61547536e-01,  2.74979740e-01,\n",
              "          6.01921305e-02,  2.93217581e-02, -7.92001486e-01,\n",
              "         -3.64552051e-01,  3.13407272e-01, -1.94498792e-01,\n",
              "         -2.97269762e-01],\n",
              "        [-1.91452399e-01,  4.77048494e-02, -1.58102944e-01,\n",
              "          5.71364313e-02,  1.27273530e-01,  1.39347285e-01,\n",
              "         -1.11549363e-01, -2.09225595e-01, -3.49876955e-02,\n",
              "          2.29304448e-01],\n",
              "        [-2.82343090e-01, -3.59663635e-01,  6.82918262e-03,\n",
              "          3.90403271e-01, -6.46884680e-01,  4.54580814e-01,\n",
              "          9.68417302e-02, -1.86005924e-02, -3.46456379e-01,\n",
              "         -2.55938798e-01],\n",
              "        [-3.25668789e-02,  1.18104056e-01, -2.80394733e-01,\n",
              "          1.12370759e-01, -2.16599833e-02,  2.51252294e-01,\n",
              "         -1.44568577e-01,  4.45610322e-02,  2.59319752e-01,\n",
              "          2.98494846e-01],\n",
              "        [-3.85169208e-01, -4.20526462e-03,  4.98489179e-02,\n",
              "          2.90446252e-01, -3.01709831e-01, -2.15598181e-01,\n",
              "         -3.20811160e-02, -1.17276393e-01,  2.52093989e-02,\n",
              "         -3.75189006e-01],\n",
              "        [ 2.17146009e-01, -2.45571971e-01,  1.90244973e-01,\n",
              "          1.12463467e-01,  2.77954727e-01,  1.38063490e-01,\n",
              "         -7.26536438e-02, -2.07050219e-01,  4.33205515e-02,\n",
              "         -4.20413226e-01],\n",
              "        [-5.64361334e-01,  2.31610388e-01,  3.37480754e-02,\n",
              "         -5.49016714e-01,  3.19467962e-01, -2.89247274e-01,\n",
              "          4.66128532e-03,  3.41423005e-01,  1.43766552e-01,\n",
              "         -1.01466395e-01],\n",
              "        [-6.30919278e-01,  3.55825156e-01, -2.27892280e-01,\n",
              "          3.26145202e-01,  1.87859192e-01, -1.51537880e-01,\n",
              "          1.06051072e-01,  2.92060286e-01, -4.53498960e-01,\n",
              "         -1.38319224e-01],\n",
              "        [-1.39394015e-01,  8.31185058e-02,  9.17832330e-02,\n",
              "          4.94540408e-02, -5.64658903e-02, -9.21962261e-02,\n",
              "         -1.62932441e-01, -2.97958404e-01,  2.52529114e-01,\n",
              "          1.76273391e-01],\n",
              "        [ 3.28075647e-01,  1.16543069e-01, -1.03857741e-01,\n",
              "         -6.48509562e-01,  5.85930247e-05, -8.70891586e-02,\n",
              "          3.04556727e-01,  1.46167325e-02,  3.51562709e-01,\n",
              "         -1.39007807e-01],\n",
              "        [-2.16669649e-01,  3.36465329e-01, -1.17676072e-01,\n",
              "         -5.51294744e-01,  4.05032843e-01, -5.22379816e-01,\n",
              "         -3.78537744e-01,  3.55659008e-01, -3.60606492e-01,\n",
              "         -3.65184605e-01],\n",
              "        [-1.94605365e-01, -8.20789635e-02, -4.64413501e-02,\n",
              "         -4.40009475e-01,  3.56652513e-02,  3.61050516e-01,\n",
              "          2.17610106e-01, -4.55828160e-02,  1.91575021e-01,\n",
              "         -6.30573571e-01],\n",
              "        [-2.47421831e-01, -5.12771681e-03, -5.69504648e-02,\n",
              "         -3.44493836e-01,  2.76365578e-01,  1.69046521e-02,\n",
              "         -5.20552874e-01,  4.28686999e-02,  7.99943300e-05,\n",
              "          1.37067795e-01],\n",
              "        [ 1.47826269e-01, -1.72092259e-01,  1.05953835e-01,\n",
              "          1.32687896e-01, -3.19455415e-02, -9.94751006e-02,\n",
              "          2.35562682e-01, -3.48823890e-02,  1.90117717e-01,\n",
              "         -3.93806666e-01],\n",
              "        [ 1.77084506e-01, -1.84050158e-01, -2.45982915e-01,\n",
              "          3.51452857e-01, -4.24043953e-01,  3.93040836e-01,\n",
              "         -2.39901245e-01,  2.78394043e-01, -4.04097378e-01,\n",
              "          4.38922383e-02],\n",
              "        [ 1.14098527e-02, -1.45822138e-01,  1.27507105e-01,\n",
              "         -2.70702243e-02, -1.62463710e-01,  8.10852498e-02,\n",
              "         -2.17071429e-01, -3.84901911e-01,  1.39851391e-01,\n",
              "         -4.28303108e-02],\n",
              "        [-1.90733925e-01,  1.51592493e-01, -2.24099830e-01,\n",
              "          1.65284872e-01, -1.66405529e-01, -4.32492077e-01,\n",
              "          2.42684502e-02,  1.52284965e-01,  1.42513603e-01,\n",
              "          1.88601494e-01],\n",
              "        [-3.76280457e-01, -2.76740253e-01,  2.68020421e-01,\n",
              "          3.60127062e-01, -5.50899208e-01, -2.63668835e-01,\n",
              "         -6.62776887e-01,  5.31443119e-01, -3.11310112e-01,\n",
              "         -9.43701804e-01],\n",
              "        [ 2.55866915e-01,  5.53309917e-01,  2.77064711e-01,\n",
              "         -9.39530507e-02, -2.01670021e-01, -2.40431353e-02,\n",
              "         -3.84844467e-02,  2.89286256e-01, -8.84446084e-01,\n",
              "         -3.69171351e-01],\n",
              "        [-4.34974611e-01,  2.03807831e-01, -1.31444156e-01,\n",
              "          3.01885232e-02,  2.17063546e-01, -9.60294157e-02,\n",
              "         -1.98619157e-01,  2.07402363e-01,  1.63335189e-01,\n",
              "          1.31890820e-02],\n",
              "        [-2.73733348e-01, -1.95448399e-01, -3.31587255e-01,\n",
              "         -1.18336037e-01,  2.18263328e-01,  1.88428834e-01,\n",
              "         -1.54955924e-01, -5.69770001e-02,  8.47018361e-02,\n",
              "          7.60523006e-02],\n",
              "        [ 1.43119618e-01,  2.57776529e-01, -2.92146616e-02,\n",
              "         -8.22107401e-03, -3.94061834e-01, -6.47923112e-01,\n",
              "          1.29545078e-01, -1.12598635e-01, -1.20966874e-01,\n",
              "         -3.11594922e-03],\n",
              "        [-3.52905512e-01,  2.10264459e-01,  1.46259576e-01,\n",
              "          1.23967215e-01, -2.71482557e-01,  1.90452904e-01,\n",
              "         -2.67672271e-01, -2.56324504e-02,  1.80008143e-01,\n",
              "         -9.23931524e-02],\n",
              "        [-1.46335512e-01, -2.51394391e-01,  1.73119575e-01,\n",
              "          2.25136250e-01, -3.58453356e-02,  1.70067310e-01,\n",
              "         -5.35314381e-01,  8.90311003e-02,  2.08016813e-01,\n",
              "          2.62267619e-01],\n",
              "        [-3.82650614e-01,  1.92764342e-01,  3.16822439e-01,\n",
              "          1.85922712e-01,  2.70536125e-01, -3.02204695e-02,\n",
              "          3.13297898e-01, -2.99212158e-01,  6.50650337e-02,\n",
              "         -5.33539414e-01],\n",
              "        [-6.91442341e-02,  2.07000062e-01,  1.51374027e-01,\n",
              "          3.15335840e-01, -1.13014899e-01,  2.21615478e-01,\n",
              "         -6.06838167e-01, -9.19162780e-02, -4.07304615e-01,\n",
              "          3.60296443e-02],\n",
              "        [-2.01474637e-01,  1.72929332e-01,  3.70703846e-01,\n",
              "         -2.40645885e-01, -1.82403117e-01,  2.10942030e-01,\n",
              "          1.81043804e-01,  3.51597130e-01, -2.82112211e-01,\n",
              "         -5.04509330e-01],\n",
              "        [-1.25676319e-01,  4.90849137e-01,  2.29720384e-01,\n",
              "         -4.40800369e-01, -3.54390532e-01,  5.73188245e-01,\n",
              "         -5.37534297e-01,  1.08241830e-02, -6.85353041e-01,\n",
              "          9.92733464e-02],\n",
              "        [-1.35201707e-01,  1.52460352e-01, -6.26190782e-01,\n",
              "         -5.17156363e-01,  3.81652594e-01,  4.08129573e-01,\n",
              "          1.96199983e-01,  1.23591125e-01,  5.17500192e-02,\n",
              "         -3.69406156e-02],\n",
              "        [ 1.79727748e-01,  3.56771462e-02, -1.23610176e-01,\n",
              "          3.89929861e-02,  2.08680868e-01,  1.93846285e-01,\n",
              "          1.29113972e-01, -1.11255422e-01,  1.71053484e-01,\n",
              "         -3.28021973e-01],\n",
              "        [ 1.43621802e-01, -8.62577319e-01,  3.03293943e-01,\n",
              "          3.00577432e-01, -8.49275053e-01,  1.52174560e-02,\n",
              "         -5.23027062e-01,  1.85505569e-01, -5.06960452e-01,\n",
              "          1.03662111e-01],\n",
              "        [-1.50596425e-01,  3.29507440e-01, -3.81804630e-02,\n",
              "         -3.07052046e-01,  1.54478878e-01, -3.50266635e-01,\n",
              "          3.04373890e-01, -2.96220303e-01, -4.95521218e-01,\n",
              "          3.00175905e-01],\n",
              "        [ 4.00605425e-02, -3.48899156e-01, -1.42510936e-01,\n",
              "          1.85872093e-02,  1.19719386e-01, -1.43150687e-01,\n",
              "         -2.73575723e-01,  1.95266992e-01,  1.65129840e-01,\n",
              "          2.74111450e-01],\n",
              "        [ 1.39451578e-01,  2.71915406e-01,  3.58283430e-01,\n",
              "         -3.00031364e-01,  1.67892054e-01, -5.85709095e-01,\n",
              "         -4.96845037e-01,  4.63599935e-02,  3.24744694e-02,\n",
              "          3.68928760e-01],\n",
              "        [ 2.61629641e-01, -2.13918671e-01,  8.05474594e-02,\n",
              "          2.78621048e-01, -4.12506968e-01, -2.31292009e-01,\n",
              "         -6.55267611e-02, -7.21049979e-02,  1.40103832e-01,\n",
              "         -5.69914803e-02],\n",
              "        [ 1.70944870e-01,  1.62964344e-01, -2.22046673e-01,\n",
              "          1.07982762e-01, -1.57331690e-01, -1.95672050e-01,\n",
              "         -2.19592080e-01, -1.83419392e-01, -2.22807929e-01,\n",
              "          1.39494702e-01],\n",
              "        [ 1.11863345e-01,  8.77809003e-02,  6.50123432e-02,\n",
              "         -3.05967480e-01, -4.91143763e-02, -2.94164389e-01,\n",
              "          2.32093140e-01, -2.88176268e-01,  2.02353392e-02,\n",
              "         -5.11695519e-02],\n",
              "        [ 2.03303978e-01, -2.18961295e-02, -2.22385481e-01,\n",
              "          1.83274120e-01, -3.68942097e-02,  1.59422189e-01,\n",
              "          1.68669418e-01, -2.51573801e-01,  1.86073646e-01,\n",
              "         -2.86740899e-01],\n",
              "        [ 3.16280365e-01, -4.35356349e-01,  3.59156251e-01,\n",
              "         -4.29526567e-01,  1.34516001e-01,  2.09411040e-01,\n",
              "          9.70286801e-02, -2.34118521e-01, -2.04522416e-01,\n",
              "          2.07999989e-01],\n",
              "        [-2.63893098e-01, -2.21861497e-01,  2.57391572e-01,\n",
              "         -2.08215281e-01,  1.65585428e-01, -3.80697846e-01,\n",
              "         -1.19719103e-01,  1.02016568e-01,  3.86492521e-01,\n",
              "          7.70430937e-02],\n",
              "        [ 2.13776305e-01, -3.53294194e-01, -1.65626183e-01,\n",
              "          1.36535123e-01, -1.39916882e-01, -1.85106859e-01,\n",
              "         -1.68618158e-01,  1.33260027e-01,  1.64136261e-01,\n",
              "          1.44270986e-01],\n",
              "        [ 2.76941210e-01,  3.43115747e-01, -2.99230963e-01,\n",
              "         -4.87936974e-01,  5.44047952e-01, -2.15869769e-01,\n",
              "          9.90992039e-02,  5.17772377e-01, -2.64012247e-01,\n",
              "         -5.37965059e-01],\n",
              "        [ 4.22183365e-01, -4.62819844e-01, -1.11619281e-02,\n",
              "          1.39837369e-01, -6.29814863e-01,  2.76478112e-01,\n",
              "          1.89707950e-01, -1.41649336e-01, -5.11870325e-01,\n",
              "         -5.58149554e-02],\n",
              "        [-9.23483353e-03, -3.11659098e-01, -2.26939097e-01,\n",
              "          1.91516757e-01, -2.32220858e-01, -8.61902237e-02,\n",
              "          6.92928284e-02, -6.38386328e-03,  1.50143266e-01,\n",
              "          9.07031149e-02],\n",
              "        [ 6.23045228e-02, -7.74497330e-01, -3.68134558e-01,\n",
              "         -4.48092908e-01,  2.55313963e-01,  3.09955806e-01,\n",
              "          2.41211712e-01, -3.37680504e-02,  1.24572113e-01,\n",
              "          1.00757115e-01],\n",
              "        [-4.82340574e-01, -2.46250778e-01, -3.07258755e-01,\n",
              "         -3.83119673e-01, -7.77940750e-01,  5.55750430e-01,\n",
              "          4.26714361e-01, -7.58099630e-02,  1.48704827e-01,\n",
              "         -1.10239603e-01],\n",
              "        [ 6.72672549e-03,  5.34082055e-01, -1.13655195e-01,\n",
              "         -3.00883800e-01, -2.25880533e-01, -2.55617887e-01,\n",
              "         -1.07216485e-01,  2.46410578e-01,  2.08657771e-01,\n",
              "         -3.96289766e-01],\n",
              "        [-7.44735748e-02,  1.14332370e-01, -6.11010909e-01,\n",
              "          2.58142263e-01,  2.32895657e-01,  3.42063725e-01,\n",
              "         -3.93830091e-01,  2.42544219e-01, -6.69890717e-02,\n",
              "          1.07827842e-01],\n",
              "        [ 4.58881378e-01,  2.94417948e-01, -1.46873206e-01,\n",
              "         -6.43139839e-01,  4.67303582e-02, -7.78202489e-02,\n",
              "          9.68110114e-02,  2.54779067e-02, -6.30782068e-01,\n",
              "         -1.58988193e-01],\n",
              "        [ 2.35562027e-01,  5.67049533e-03, -7.92694509e-01,\n",
              "          1.98227212e-01, -2.28004634e-01,  1.84384570e-01,\n",
              "          3.18665385e-01, -3.38415623e-01, -7.05020800e-02,\n",
              "          2.43628934e-01],\n",
              "        [-1.92129165e-01,  4.74558145e-01,  4.02556688e-01,\n",
              "         -2.22182348e-02, -2.16555968e-02, -6.23672366e-01,\n",
              "         -2.48177022e-01, -2.08668962e-01, -2.96777189e-01,\n",
              "         -4.96698201e-01],\n",
              "        [-6.28661364e-02, -1.59232408e-01,  1.91079199e-01,\n",
              "          2.67217159e-01,  2.12209791e-01, -4.48871911e-01,\n",
              "          5.47561049e-01,  2.93308079e-01, -2.42459998e-01,\n",
              "          2.66007781e-01],\n",
              "        [ 2.10116506e-01, -3.77879175e-03,  2.12767422e-01,\n",
              "          2.00783476e-01,  2.45074049e-01, -6.30376935e-01,\n",
              "         -5.76188266e-01,  9.37597081e-02,  2.06304230e-02,\n",
              "          2.24237874e-01],\n",
              "        [ 2.66517133e-01,  2.27523983e-01,  3.97413708e-02,\n",
              "          2.18404934e-01, -6.06925309e-01,  2.00755354e-02,\n",
              "          1.76035371e-02,  5.87813109e-02, -2.46667027e-01,\n",
              "          3.31074484e-02],\n",
              "        [-2.02355236e-01, -1.35295093e-01,  4.20585901e-01,\n",
              "         -6.33965492e-01,  1.07192978e-01, -6.73126429e-02,\n",
              "          3.40481848e-01,  2.51729339e-01, -3.97972047e-01,\n",
              "         -1.87054947e-01],\n",
              "        [-4.57356095e-01, -2.15145841e-01,  3.86182398e-01,\n",
              "         -2.49047861e-01,  2.90915877e-01,  2.68659964e-02,\n",
              "         -4.84299809e-01,  1.35925084e-01,  4.57050025e-01,\n",
              "         -1.98872648e-02],\n",
              "        [ 2.43188255e-03, -3.30170840e-01, -2.05471918e-01,\n",
              "         -3.06676835e-01,  1.27661094e-01,  1.12387501e-01,\n",
              "         -4.65941936e-01,  9.32239145e-02,  1.72920033e-01,\n",
              "         -1.50168780e-02],\n",
              "        [ 8.96608606e-02, -8.19526240e-02,  5.32103442e-02,\n",
              "          2.09165692e-01, -1.29141435e-01, -6.46965951e-02,\n",
              "          2.17957467e-01, -9.66735408e-02,  1.27148569e-01,\n",
              "         -1.32895112e-01],\n",
              "        [-3.86335790e-01,  1.15318142e-01,  8.66991356e-02,\n",
              "          2.40621284e-01,  1.41545981e-01, -9.76797417e-02,\n",
              "         -6.14252150e-01,  2.00313017e-01,  9.37591866e-02,\n",
              "         -1.13876872e-01],\n",
              "        [-4.81936596e-02, -6.77083805e-02,  1.26299217e-01,\n",
              "         -1.08141869e-01,  1.02469735e-01, -1.89518720e-01,\n",
              "          7.65798315e-02, -2.77763546e-01,  1.11681491e-01,\n",
              "          7.39577413e-02],\n",
              "        [ 1.50767237e-01, -3.90341371e-01,  1.36365592e-01,\n",
              "         -2.77262628e-01,  3.52013916e-01, -2.85845459e-01,\n",
              "          9.91380885e-02, -4.37356651e-01, -3.45982909e-01,\n",
              "          2.50621438e-01],\n",
              "        [ 4.44935523e-02, -2.11362064e-01,  7.46142864e-02,\n",
              "         -7.06474707e-02,  4.56235372e-02, -2.83469915e-01,\n",
              "         -1.89714327e-01, -2.49041721e-01,  1.45940874e-02,\n",
              "         -1.79956213e-01],\n",
              "        [-3.41181010e-01,  1.54635087e-01, -4.55904037e-01,\n",
              "          4.00829643e-01, -3.88479978e-02,  4.52946573e-01,\n",
              "         -3.79826650e-02, -5.89599550e-01, -4.78716016e-01,\n",
              "          1.32414639e-01],\n",
              "        [ 6.34584948e-03,  2.62257904e-01,  1.39518946e-01,\n",
              "          2.29376107e-01,  2.56428659e-01, -5.14377207e-02,\n",
              "         -3.87115031e-01, -3.60264122e-01,  2.82310396e-01,\n",
              "         -5.78235164e-02],\n",
              "        [-5.32302260e-01,  2.21631914e-01,  1.27079397e-01,\n",
              "         -4.37428564e-01, -2.65680671e-01,  5.89077652e-01,\n",
              "          7.37229884e-02, -2.14049131e-01, -1.35579025e-02,\n",
              "          1.79486990e-01],\n",
              "        [ 1.48227260e-01, -7.53918663e-02,  3.26419473e-01,\n",
              "          4.22993191e-02, -8.82468700e-01, -3.55459213e-01,\n",
              "         -2.25698605e-01,  9.63759944e-02,  9.64519978e-02,\n",
              "          8.17004070e-02],\n",
              "        [ 1.69687241e-01,  1.46888122e-01, -9.72980559e-02,\n",
              "         -4.04958516e-01, -5.30720532e-01,  1.14158161e-01,\n",
              "          6.09519064e-01, -3.49187046e-01, -2.36596748e-01,\n",
              "          2.78397113e-01],\n",
              "        [ 7.69957388e-03, -1.20248748e-02,  1.85544032e-03,\n",
              "          1.68644950e-01,  8.78255889e-02, -4.49480191e-02,\n",
              "          1.54925779e-01, -3.03793430e-01,  1.13157280e-01,\n",
              "          4.60243858e-02],\n",
              "        [ 1.49227515e-01,  1.96588412e-02,  3.55771035e-01,\n",
              "         -6.54606298e-02,  1.34252697e-01,  1.64303333e-01,\n",
              "          2.63283044e-01,  1.15504051e-02, -3.89222503e-01,\n",
              "         -7.84684122e-01],\n",
              "        [ 2.23911047e-01, -3.50904576e-02, -1.61658123e-01,\n",
              "          2.44310677e-01, -5.27904332e-01,  2.62170732e-01,\n",
              "         -4.81912345e-01,  9.25190672e-02, -1.83258861e-01,\n",
              "          1.43576145e-01],\n",
              "        [ 1.94567263e-01, -7.45286793e-02,  1.92491770e-01,\n",
              "          9.09142345e-02, -5.01017094e-01,  1.28918275e-01,\n",
              "         -4.71411161e-02,  1.38060302e-01,  1.54585734e-01,\n",
              "          1.16733037e-01],\n",
              "        [-2.22427756e-01,  1.55071795e-01,  2.86690742e-01,\n",
              "          2.34321818e-01, -5.51559687e-01,  9.12048668e-03,\n",
              "          2.05193441e-02,  1.92092150e-01,  2.70153061e-02,\n",
              "         -8.82209599e-01],\n",
              "        [ 2.03993529e-01, -3.07047963e-01, -1.23033747e-01,\n",
              "         -5.89417219e-02, -3.61497700e-01,  1.73029020e-01,\n",
              "         -1.64487123e-01, -1.82538912e-01,  1.32290393e-01,\n",
              "         -1.00194417e-01],\n",
              "        [ 3.61317009e-01, -5.48443906e-02,  2.16829300e-01,\n",
              "         -4.55479085e-01,  1.78802878e-01, -1.76568061e-01,\n",
              "          6.14477955e-02,  1.70008913e-01, -3.23705465e-01,\n",
              "          2.79079825e-01],\n",
              "        [-6.39144123e-01,  4.74482685e-01,  3.05583805e-01,\n",
              "         -1.81423977e-01,  7.12275598e-03, -6.18503213e-01,\n",
              "          1.45440713e-01,  3.38723183e-01,  3.09451878e-01,\n",
              "         -5.94581902e-01],\n",
              "        [-8.85365665e-01,  1.81268677e-01, -5.15375853e-01,\n",
              "          2.51055300e-01,  3.84128958e-01,  1.43684402e-01,\n",
              "         -8.87703121e-01,  1.14698946e-01, -3.83048415e-01,\n",
              "          2.91266650e-01],\n",
              "        [ 6.04624413e-02, -3.38376537e-02, -3.96295428e-01,\n",
              "         -8.14043358e-02,  2.92642891e-01, -3.42561193e-02,\n",
              "         -1.19719125e-01,  2.55816638e-01, -1.73262700e-01,\n",
              "          3.58306974e-01],\n",
              "        [ 3.12643737e-01,  2.32921205e-02,  7.92505965e-02,\n",
              "          3.33354250e-02, -6.28033042e-01,  5.33033684e-02,\n",
              "         -3.38369273e-02, -6.76900089e-01, -4.21666168e-03,\n",
              "         -2.01603435e-02],\n",
              "        [-8.01037848e-01, -4.63964194e-01,  7.19384253e-02,\n",
              "          1.76458150e-01,  2.55750239e-01,  2.56620616e-01,\n",
              "         -3.84428740e-01, -1.59837544e-01,  6.94171265e-02,\n",
              "          2.28239268e-01],\n",
              "        [ 5.65162934e-02,  4.24578428e-01, -7.53095686e-01,\n",
              "         -3.89743477e-01,  1.63663942e-02,  3.33043002e-02,\n",
              "         -2.33483240e-01,  3.51159096e-01, -5.33027232e-01,\n",
              "          1.74358532e-01],\n",
              "        [-4.41725314e-01,  2.97087971e-02,  3.16002160e-01,\n",
              "          1.66986540e-01,  2.41438687e-01,  1.42992765e-01,\n",
              "         -4.13896680e-01, -5.96856534e-01, -4.97555405e-01,\n",
              "          2.32930928e-01],\n",
              "        [ 2.84665465e-01, -2.40701675e-01,  3.44992429e-02,\n",
              "         -2.23296553e-01,  2.90415585e-01, -3.44397604e-01,\n",
              "          1.52643308e-01,  1.68315575e-01, -2.03229681e-01,\n",
              "          2.59727925e-01],\n",
              "        [ 2.13175401e-01, -4.65075493e-01,  1.54961586e-01,\n",
              "          3.17889750e-01, -1.08206463e+00,  4.01224375e-01,\n",
              "         -1.66125856e-02,  6.15775436e-02,  4.03916873e-02,\n",
              "         -1.01115815e-01],\n",
              "        [-9.35984373e-01,  1.87889904e-01,  1.45067908e-02,\n",
              "          1.93203151e-01, -3.41031663e-02,  2.67929822e-01,\n",
              "         -4.58124220e-01, -2.79298037e-01,  2.53906637e-01,\n",
              "          2.01252490e-01]], dtype=float32),\n",
              " array([-0.08702199, -0.0954318 , -0.00812775, -0.04129966,  0.08988027,\n",
              "         0.06465898, -0.02788519, -0.05150984,  0.09657001, -0.01162409],\n",
              "       dtype=float32)]"
            ]
          },
          "metadata": {},
          "execution_count": 12
        }
      ]
    },
    {
      "cell_type": "code",
      "source": [],
      "metadata": {
        "id": "ZegB9BQn-3zU"
      },
      "execution_count": null,
      "outputs": []
    }
  ]
}