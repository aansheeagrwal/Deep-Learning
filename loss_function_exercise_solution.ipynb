{
  "nbformat": 4,
  "nbformat_minor": 0,
  "metadata": {
    "colab": {
      "provenance": [],
      "authorship_tag": "ABX9TyPLvfp6Cg7YuHcszcF+HUbF",
      "include_colab_link": true
    },
    "kernelspec": {
      "name": "python3",
      "display_name": "Python 3"
    },
    "language_info": {
      "name": "python"
    }
  },
  "cells": [
    {
      "cell_type": "markdown",
      "metadata": {
        "id": "view-in-github",
        "colab_type": "text"
      },
      "source": [
        "<a href=\"https://colab.research.google.com/github/aansheeagrwal/Deep-Learning/blob/main/loss_function_exercise_solution.ipynb\" target=\"_parent\"><img src=\"https://colab.research.google.com/assets/colab-badge.svg\" alt=\"Open In Colab\"/></a>"
      ]
    },
    {
      "cell_type": "markdown",
      "source": [
        "**Loss function exercise: Implement Mean Squared Error Function In Python**"
      ],
      "metadata": {
        "id": "y0X9fRmhqyhS"
      }
    },
    {
      "cell_type": "markdown",
      "source": [
        "Solution 1: Without using numpy"
      ],
      "metadata": {
        "id": "iE53pu7wrAzJ"
      }
    },
    {
      "cell_type": "code",
      "execution_count": 1,
      "metadata": {
        "id": "TkM-jRSWqi-L"
      },
      "outputs": [],
      "source": [
        "import numpy as np\n",
        "\n",
        "y_predicted = np.array([1,1,0,0,1])\n",
        "y_true = np.array([0.30,0.7,1,0,0.5])"
      ]
    },
    {
      "cell_type": "code",
      "source": [
        "def mse(y_true, y_predicted):\n",
        "    total_error = 0\n",
        "    for yt, yp in zip(y_true, y_predicted):\n",
        "        total_error += (yt-yp)**2\n",
        "    print(\"Total Squared Error:\",total_error)\n",
        "    mse = total_error/len(y_true)\n",
        "    print(\"Mean Squared Error:\",mse)\n",
        "    return mse"
      ],
      "metadata": {
        "id": "6Csf2aRLrEnp"
      },
      "execution_count": 2,
      "outputs": []
    },
    {
      "cell_type": "code",
      "source": [
        "mse(y_true, y_predicted)"
      ],
      "metadata": {
        "colab": {
          "base_uri": "https://localhost:8080/"
        },
        "id": "ircc0woorTSz",
        "outputId": "cc91c75e-899c-4acc-dce7-73a4c9924a6e"
      },
      "execution_count": 3,
      "outputs": [
        {
          "output_type": "stream",
          "name": "stdout",
          "text": [
            "Total Squared Error: 1.83\n",
            "Mean Squared Error: 0.366\n"
          ]
        },
        {
          "output_type": "execute_result",
          "data": {
            "text/plain": [
              "np.float64(0.366)"
            ]
          },
          "metadata": {},
          "execution_count": 3
        }
      ]
    },
    {
      "cell_type": "markdown",
      "source": [
        "\n",
        "Solution 2: By using numpy"
      ],
      "metadata": {
        "id": "1kW0uKHyrW6Q"
      }
    },
    {
      "cell_type": "code",
      "source": [
        "np.mean(np.square(y_true-y_predicted))"
      ],
      "metadata": {
        "colab": {
          "base_uri": "https://localhost:8080/"
        },
        "id": "BaZV3uqmrZrH",
        "outputId": "e47eb84f-5fe4-4c6f-afd6-b3a7cf05b7b3"
      },
      "execution_count": 4,
      "outputs": [
        {
          "output_type": "execute_result",
          "data": {
            "text/plain": [
              "np.float64(0.366)"
            ]
          },
          "metadata": {},
          "execution_count": 4
        }
      ]
    },
    {
      "cell_type": "code",
      "source": [],
      "metadata": {
        "id": "lf7aFZkprbln"
      },
      "execution_count": null,
      "outputs": []
    }
  ]
}