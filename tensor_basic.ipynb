{
  "cells": [
    {
      "cell_type": "markdown",
      "metadata": {
        "id": "view-in-github",
        "colab_type": "text"
      },
      "source": [
        "<a href=\"https://colab.research.google.com/github/aansheeagrwal/Deep-Learning/blob/main/tensor_basic.ipynb\" target=\"_parent\"><img src=\"https://colab.research.google.com/assets/colab-badge.svg\" alt=\"Open In Colab\"/></a>"
      ]
    },
    {
      "cell_type": "code",
      "execution_count": 2,
      "metadata": {
        "id": "ntsbQvz25Z7g"
      },
      "outputs": [],
      "source": [
        "import tensorflow as tf"
      ]
    },
    {
      "cell_type": "code",
      "execution_count": 3,
      "metadata": {
        "colab": {
          "base_uri": "https://localhost:8080/"
        },
        "id": "NMPyGekg8Ys1",
        "outputId": "404dfc00-6933-44e5-bd69-2b053d229c34"
      },
      "outputs": [
        {
          "output_type": "stream",
          "name": "stdout",
          "text": [
            "tf.Tensor(4, shape=(), dtype=int32)\n"
          ]
        }
      ],
      "source": [
        "tensor_zero_d = tf.constant(4)\n",
        "print(tensor_zero_d)"
      ]
    },
    {
      "cell_type": "code",
      "execution_count": 4,
      "metadata": {
        "colab": {
          "base_uri": "https://localhost:8080/"
        },
        "id": "XOBCMvah8leR",
        "outputId": "b4df8bd0-c7e8-4228-8755-377c34045c93"
      },
      "outputs": [
        {
          "output_type": "stream",
          "name": "stdout",
          "text": [
            "tf.Tensor([ 2.  0. -3.  8. 90.], shape=(5,), dtype=float16)\n"
          ]
        }
      ],
      "source": [
        "tensor_one_d = tf.constant([2, 0, -3, 8, 90],dtype=tf.float16)\n",
        "print(tensor_one_d)"
      ]
    },
    {
      "cell_type": "code",
      "execution_count": 5,
      "metadata": {
        "colab": {
          "base_uri": "https://localhost:8080/"
        },
        "id": "Vs-6B_c4CE_v",
        "outputId": "12717d0f-52eb-48a7-b023-08fd6968f6ca"
      },
      "outputs": [
        {
          "output_type": "stream",
          "name": "stdout",
          "text": [
            "tf.Tensor([ True  True False], shape=(3,), dtype=bool)\n"
          ]
        }
      ],
      "source": [
        "tensor_bool = tf.constant([True,True,False])\n",
        "print(tensor_bool)"
      ]
    },
    {
      "cell_type": "code",
      "execution_count": 6,
      "metadata": {
        "colab": {
          "base_uri": "https://localhost:8080/"
        },
        "id": "dSExDrJ4CPsu",
        "outputId": "1eef5f8e-b7fe-42f2-d7a1-fed979420fae"
      },
      "outputs": [
        {
          "output_type": "stream",
          "name": "stdout",
          "text": [
            "tf.Tensor([b'hello world' b'hi '], shape=(2,), dtype=string)\n"
          ]
        }
      ],
      "source": [
        "tensor_string = tf.constant([\"hello world\",\"hi \"])\n",
        "print(tensor_string)"
      ]
    },
    {
      "cell_type": "code",
      "execution_count": 7,
      "metadata": {
        "id": "9PmNctrPCeaS"
      },
      "outputs": [],
      "source": [
        "import numpy as np"
      ]
    },
    {
      "cell_type": "code",
      "execution_count": 8,
      "metadata": {
        "colab": {
          "base_uri": "https://localhost:8080/"
        },
        "id": "aRYBi-O8CjWU",
        "outputId": "7a81339c-a942-4fc2-dca9-793abc9e43db"
      },
      "outputs": [
        {
          "output_type": "stream",
          "name": "stdout",
          "text": [
            "[1 2 4]\n"
          ]
        }
      ],
      "source": [
        "np_array = np.array([1,2,4])\n",
        "print(np_array)"
      ]
    },
    {
      "cell_type": "code",
      "execution_count": 9,
      "metadata": {
        "colab": {
          "base_uri": "https://localhost:8080/"
        },
        "id": "DoSFsoLPCp6y",
        "outputId": "20d23ce4-47e0-436c-add7-39fbf7c129a3"
      },
      "outputs": [
        {
          "output_type": "stream",
          "name": "stdout",
          "text": [
            "tf.Tensor([1 2 4], shape=(3,), dtype=int64)\n"
          ]
        }
      ],
      "source": [
        "converted_tensor = tf.convert_to_tensor(np_array)\n",
        "print(converted_tensor)"
      ]
    },
    {
      "cell_type": "code",
      "execution_count": 10,
      "metadata": {
        "colab": {
          "base_uri": "https://localhost:8080/"
        },
        "id": "uFbT_W2sC2Bw",
        "outputId": "d8711e76-b75a-44b8-ee90-2ee224335b16"
      },
      "outputs": [
        {
          "output_type": "execute_result",
          "data": {
            "text/plain": [
              "<tf.Tensor: shape=(2, 5, 5), dtype=float32, numpy=\n",
              "array([[[1., 0., 0., 0., 0.],\n",
              "        [0., 1., 0., 0., 0.],\n",
              "        [0., 0., 1., 0., 0.],\n",
              "        [0., 0., 0., 1., 0.],\n",
              "        [0., 0., 0., 0., 1.]],\n",
              "\n",
              "       [[1., 0., 0., 0., 0.],\n",
              "        [0., 1., 0., 0., 0.],\n",
              "        [0., 0., 1., 0., 0.],\n",
              "        [0., 0., 0., 1., 0.],\n",
              "        [0., 0., 0., 0., 1.]]], dtype=float32)>"
            ]
          },
          "metadata": {},
          "execution_count": 10
        }
      ],
      "source": [
        "# cnostruct an identity matrix, or a branch of matrices\n",
        "tf.eye(\n",
        "    num_rows=5,\n",
        "    num_columns=None,\n",
        "    batch_shape=[2,],\n",
        "    dtype=tf.dtypes.float32,\n",
        "    name=None\n",
        ")"
      ]
    },
    {
      "cell_type": "code",
      "execution_count": 11,
      "metadata": {
        "colab": {
          "base_uri": "https://localhost:8080/"
        },
        "id": "lOx6xfGJDJVX",
        "outputId": "cffd30a6-07e2-491e-8168-ab15d977f596"
      },
      "outputs": [
        {
          "output_type": "stream",
          "name": "stdout",
          "text": [
            "tf.Tensor(\n",
            "[[[1. 0.]\n",
            "  [0. 1.]]\n",
            "\n",
            " [[1. 0.]\n",
            "  [0. 1.]]\n",
            "\n",
            " [[1. 0.]\n",
            "  [0. 1.]]], shape=(3, 2, 2), dtype=float32)\n"
          ]
        },
        {
          "output_type": "execute_result",
          "data": {
            "text/plain": [
              "[[1.0, 0.0, 0.0], [0.0, 1.0, 0.0]]"
            ]
          },
          "metadata": {},
          "execution_count": 11
        }
      ],
      "source": [
        "tf.eye(2)\n",
        "[[1., 0.],\n",
        " [0., 1.]]\n",
        "\n",
        "\n",
        "batch_identity = tf.eye(2, batch_shape=[3])\n",
        "print(batch_identity)\n",
        "tf.eye(2, num_columns=3)\n",
        "[[1., 0., 0.],\n",
        " [0., 1., 0.]]\n"
      ]
    },
    {
      "cell_type": "code",
      "execution_count": 12,
      "metadata": {
        "colab": {
          "base_uri": "https://localhost:8080/"
        },
        "id": "JWXdMCPGEUZz",
        "outputId": "781223d2-840f-42ef-f305-4ebe977bfbd3"
      },
      "outputs": [
        {
          "output_type": "stream",
          "name": "stdout",
          "text": [
            "tf.Tensor(\n",
            "[[[3. 0. 0.]\n",
            "  [0. 3. 0.]\n",
            "  [0. 0. 3.]]\n",
            "\n",
            " [[3. 0. 0.]\n",
            "  [0. 3. 0.]\n",
            "  [0. 0. 3.]]], shape=(2, 3, 3), dtype=float32)\n"
          ]
        }
      ],
      "source": [
        "eye_tensor=tf.eye(\n",
        "    num_rows=3,\n",
        "    num_columns=None,\n",
        "    batch_shape=[2,],\n",
        "    dtype=tf.dtypes.float32,\n",
        "    name=None\n",
        ")\n",
        "print(3*eye_tensor)"
      ]
    },
    {
      "cell_type": "code",
      "execution_count": 13,
      "metadata": {
        "colab": {
          "base_uri": "https://localhost:8080/"
        },
        "id": "9-hh2WDpBgGR",
        "outputId": "cff6632d-c819-44c0-e98a-151052016a4e"
      },
      "outputs": [
        {
          "output_type": "stream",
          "name": "stdout",
          "text": [
            "tf.Tensor([ True False  True  True  True], shape=(5,), dtype=bool)\n",
            "tf.Tensor([ 2.  0. -3.  8. 90.], shape=(5,), dtype=float32)\n"
          ]
        }
      ],
      "source": [
        "tensor_one_d = tf.constant([2, 0, -3, 8, 90],dtype=tf.float32)\n",
        "\n",
        "casted_tensor_one_d = tf.cast(tensor_one_d,dtype=tf.bool)\n",
        "print(casted_tensor_one_d)\n",
        "print(tensor_one_d)"
      ]
    },
    {
      "cell_type": "code",
      "execution_count": 14,
      "metadata": {
        "colab": {
          "base_uri": "https://localhost:8080/"
        },
        "id": "RbUyF0ye8qw1",
        "outputId": "1f31a8b3-059b-4dce-b9d5-9c0216497ced"
      },
      "outputs": [
        {
          "output_type": "stream",
          "name": "stdout",
          "text": [
            "tf.Tensor(\n",
            "[[ 1  2  0]\n",
            " [ 3  5 -1]\n",
            " [ 1  5  6]\n",
            " [ 2  3  8]], shape=(4, 3), dtype=int32)\n"
          ]
        }
      ],
      "source": [
        "tensor_two_d = tf.constant([\n",
        "    [1, 2, 0],\n",
        "    [3, 5, -1],\n",
        "    [1, 5, 6],\n",
        "    [2, 3, 8]\n",
        "])\n",
        "print(tensor_two_d)"
      ]
    },
    {
      "cell_type": "code",
      "execution_count": 15,
      "metadata": {
        "colab": {
          "base_uri": "https://localhost:8080/"
        },
        "id": "STac5ShO9JnK",
        "outputId": "5b134f9d-5225-47be-f728-cec538bf713a"
      },
      "outputs": [
        {
          "output_type": "stream",
          "name": "stdout",
          "text": [
            "tf.Tensor(\n",
            "[[[ 1  2  0]\n",
            "  [ 3  5 -1]]\n",
            "\n",
            " [[10  2  0]\n",
            "  [ 1  0  2]]\n",
            "\n",
            " [[ 5  8  0]\n",
            "  [ 2  7  0]]\n",
            "\n",
            " [[ 2  1  9]\n",
            "  [ 4 -3 32]]], shape=(4, 2, 3), dtype=int32)\n"
          ]
        }
      ],
      "source": [
        "tensor_three_d = tf.constant([\n",
        "    [[1,2,0],\n",
        "    [3,5,-1]],\n",
        "\n",
        "    [[10,2,0],\n",
        "    [1,0,2]],\n",
        "\n",
        "    [[5,8,0],\n",
        "    [2,7,0]],\n",
        "\n",
        "    [[2,1,9],\n",
        "    [4,-3,32]],\n",
        "\n",
        "])\n",
        "print(tensor_three_d)\n"
      ]
    },
    {
      "cell_type": "code",
      "execution_count": 16,
      "metadata": {
        "colab": {
          "base_uri": "https://localhost:8080/"
        },
        "id": "qf7Cvg2m-JU3",
        "outputId": "d4bacdf9-2166-4764-800c-d86a1c381317"
      },
      "outputs": [
        {
          "output_type": "stream",
          "name": "stdout",
          "text": [
            "(4, 2, 3)\n"
          ]
        }
      ],
      "source": [
        "print(tensor_three_d.shape)"
      ]
    },
    {
      "cell_type": "code",
      "execution_count": 17,
      "metadata": {
        "colab": {
          "base_uri": "https://localhost:8080/"
        },
        "id": "9zkoV2yw_AcQ",
        "outputId": "b04695d2-6dca-43a7-e65f-062049e35845"
      },
      "outputs": [
        {
          "output_type": "stream",
          "name": "stdout",
          "text": [
            "()\n"
          ]
        }
      ],
      "source": [
        "print(tensor_zero_d.shape)"
      ]
    },
    {
      "cell_type": "code",
      "execution_count": 18,
      "metadata": {
        "colab": {
          "base_uri": "https://localhost:8080/"
        },
        "id": "8_MSm3CZ_GcH",
        "outputId": "6739bea9-3794-4ee3-f4ae-8745b92360e3"
      },
      "outputs": [
        {
          "output_type": "stream",
          "name": "stdout",
          "text": [
            "(5,)\n"
          ]
        }
      ],
      "source": [
        "print(tensor_one_d.shape)"
      ]
    },
    {
      "cell_type": "code",
      "execution_count": 19,
      "metadata": {
        "colab": {
          "base_uri": "https://localhost:8080/"
        },
        "id": "-VLAgcoS_IVc",
        "outputId": "06897078-ab67-432a-d319-ce137b3a8346"
      },
      "outputs": [
        {
          "output_type": "stream",
          "name": "stdout",
          "text": [
            "(4, 3)\n"
          ]
        }
      ],
      "source": [
        "print(tensor_two_d.shape)"
      ]
    },
    {
      "cell_type": "code",
      "execution_count": 20,
      "metadata": {
        "colab": {
          "base_uri": "https://localhost:8080/"
        },
        "id": "aVkcBdk-_Lyq",
        "outputId": "ffe0492e-f9b7-42c8-e676-53dbc73599a5"
      },
      "outputs": [
        {
          "output_type": "stream",
          "name": "stdout",
          "text": [
            "3\n"
          ]
        }
      ],
      "source": [
        "print(tensor_three_d.ndim)"
      ]
    },
    {
      "cell_type": "code",
      "execution_count": 21,
      "metadata": {
        "colab": {
          "base_uri": "https://localhost:8080/"
        },
        "id": "zMx5z84A_Orz",
        "outputId": "9734ed24-45e5-415f-b600-9668ae2a1d1f"
      },
      "outputs": [
        {
          "output_type": "stream",
          "name": "stdout",
          "text": [
            "tf.Tensor(\n",
            "[[[5 5 5 5]\n",
            "  [5 5 5 5]\n",
            "  [5 5 5 5]]], shape=(1, 3, 4), dtype=int32)\n"
          ]
        }
      ],
      "source": [
        "fill_tensor = tf.fill(\n",
        "    [1,3,4], 5, name=None\n",
        ")\n",
        "print(fill_tensor)"
      ]
    },
    {
      "cell_type": "code",
      "execution_count": 22,
      "metadata": {
        "colab": {
          "base_uri": "https://localhost:8080/"
        },
        "id": "qO3140brY9J2",
        "outputId": "e55679b2-9110-450e-fb9f-cab2054dce16"
      },
      "outputs": [
        {
          "output_type": "stream",
          "name": "stdout",
          "text": [
            "tf.Tensor(\n",
            "[[1. 1. 1.]\n",
            " [1. 1. 1.]\n",
            " [1. 1. 1.]\n",
            " [1. 1. 1.]\n",
            " [1. 1. 1.]], shape=(5, 3), dtype=float32)\n"
          ]
        }
      ],
      "source": [
        "ones_tensor = tf.ones(\n",
        "    [5,3],\n",
        "    dtype=tf.dtypes.float32,\n",
        "    name=None\n",
        ")\n",
        "print(ones_tensor)"
      ]
    },
    {
      "cell_type": "code",
      "execution_count": 23,
      "metadata": {
        "colab": {
          "base_uri": "https://localhost:8080/"
        },
        "id": "UMeEUTW_Zq-D",
        "outputId": "4019f5c8-40ed-4420-b471-61ea8ebda4d4"
      },
      "outputs": [
        {
          "output_type": "stream",
          "name": "stdout",
          "text": [
            "tf.Tensor(\n",
            "[[[1. 1.]\n",
            "  [1. 1.]\n",
            "  [1. 1.]]\n",
            "\n",
            " [[1. 1.]\n",
            "  [1. 1.]\n",
            "  [1. 1.]]\n",
            "\n",
            " [[1. 1.]\n",
            "  [1. 1.]\n",
            "  [1. 1.]]\n",
            "\n",
            " [[1. 1.]\n",
            "  [1. 1.]\n",
            "  [1. 1.]]\n",
            "\n",
            " [[1. 1.]\n",
            "  [1. 1.]\n",
            "  [1. 1.]]], shape=(5, 3, 2), dtype=float32)\n"
          ]
        }
      ],
      "source": [
        "ones_tensor = tf.ones(\n",
        "    [5,3,2],\n",
        "    dtype=tf.dtypes.float32,\n",
        "    name=None\n",
        ")\n",
        "print(ones_tensor)"
      ]
    },
    {
      "cell_type": "code",
      "execution_count": 24,
      "metadata": {
        "colab": {
          "base_uri": "https://localhost:8080/"
        },
        "id": "4KWRtGCRZylx",
        "outputId": "853bd5c7-c703-4bc3-dfe0-2d906d17ead5"
      },
      "outputs": [
        {
          "output_type": "stream",
          "name": "stdout",
          "text": [
            "tf.Tensor(\n",
            "[[[1 1 1 1]\n",
            "  [1 1 1 1]\n",
            "  [1 1 1 1]]], shape=(1, 3, 4), dtype=int32)\n"
          ]
        }
      ],
      "source": [
        "ones_like_tensor = tf.ones_like(fill_tensor)\n",
        "print(ones_like_tensor)"
      ]
    },
    {
      "cell_type": "code",
      "execution_count": 25,
      "metadata": {
        "colab": {
          "base_uri": "https://localhost:8080/"
        },
        "id": "F_hOytKKZ8HI",
        "outputId": "96ad865f-a49d-4f83-acb4-56f80b343138"
      },
      "outputs": [
        {
          "output_type": "stream",
          "name": "stdout",
          "text": [
            "(4, 2, 3)\n"
          ]
        }
      ],
      "source": [
        "print(tensor_three_d.shape)"
      ]
    },
    {
      "cell_type": "code",
      "execution_count": 26,
      "metadata": {
        "colab": {
          "base_uri": "https://localhost:8080/"
        },
        "id": "3UUdkWZLa6qJ",
        "outputId": "0698819f-d358-46d7-d809-b214c6f263ac"
      },
      "outputs": [
        {
          "output_type": "execute_result",
          "data": {
            "text/plain": [
              "<tf.Tensor: shape=(), dtype=int32, numpy=3>"
            ]
          },
          "metadata": {},
          "execution_count": 26
        }
      ],
      "source": [
        "# shape of tensor 't' is [2,2,3]\n",
        "t = tf.constant([[[1,1,1],[2,2,2]],[[3,3,3],[4,4,4]]])\n",
        "tf.rank(t) # 3"
      ]
    },
    {
      "cell_type": "code",
      "execution_count": 27,
      "metadata": {
        "colab": {
          "base_uri": "https://localhost:8080/"
        },
        "id": "PhHy4UWObIDW",
        "outputId": "87f1f85e-84c4-4f40-8284-c7cee4d114cf"
      },
      "outputs": [
        {
          "output_type": "execute_result",
          "data": {
            "text/plain": [
              "<tf.Tensor: shape=(), dtype=int32, numpy=12>"
            ]
          },
          "metadata": {},
          "execution_count": 27
        }
      ],
      "source": [
        "t = tf.constant([[[1,1,1],[2,2,2]],[[3,3,3],[4,4,4]]])\n",
        "tf.size(t)"
      ]
    },
    {
      "cell_type": "code",
      "execution_count": 28,
      "metadata": {
        "colab": {
          "base_uri": "https://localhost:8080/"
        },
        "id": "WCZ2kViFbQLa",
        "outputId": "d51a05f3-8e9f-44e8-a4ee-29c1fc75b369"
      },
      "outputs": [
        {
          "output_type": "stream",
          "name": "stdout",
          "text": [
            "tf.Tensor(\n",
            "[[ 0.7431281   0.53983694]\n",
            " [-1.6046882   0.7653028 ]\n",
            " [ 0.98504907 -0.22409596]], shape=(3, 2), dtype=float32)\n"
          ]
        }
      ],
      "source": [
        "random_tensor = tf.random.normal(\n",
        "    [3,2],\n",
        "    mean=0.0,\n",
        "    stddev=1.0,\n",
        "    dtype=tf.dtypes.float32,\n",
        "    seed=None,\n",
        "    name=None\n",
        ")\n",
        "print(random_tensor)"
      ]
    },
    {
      "cell_type": "code",
      "execution_count": 29,
      "metadata": {
        "colab": {
          "base_uri": "https://localhost:8080/"
        },
        "id": "_LlqUErNbe5e",
        "outputId": "22adde8d-8320-4091-f27f-2f2804183fd9"
      },
      "outputs": [
        {
          "output_type": "stream",
          "name": "stdout",
          "text": [
            "tf.Tensor([0.89297986 0.69739676 0.06223106 0.18105352 0.09580696], shape=(5,), dtype=float32)\n"
          ]
        }
      ],
      "source": [
        "random_tensor = tf.random.uniform(\n",
        "    [5,],\n",
        "    minval=0,\n",
        "    maxval=None,\n",
        "    dtype=tf.dtypes.float32,\n",
        "    seed=None,\n",
        "    name=None\n",
        ")\n",
        "print(random_tensor)"
      ]
    },
    {
      "cell_type": "code",
      "source": [
        "import tensorflow as tf\n",
        "\n",
        "tensor_two_d = tf.constant([\n",
        "    [1, 2, 0],\n",
        "    [3, 5, -1],\n",
        "    [1, 5, 6]\n",
        "], dtype=tf.float32)  # Now it's a 3x3 matrix\n",
        "\n",
        "tensor_two_d_inv = tf.linalg.inv(tensor_two_d)\n",
        "print(\"Original Matrix:\\n\", tensor_two_d.numpy())\n",
        "print(\"Inverse Matrix:\\n\", tensor_two_d_inv.numpy())\n"
      ],
      "metadata": {
        "colab": {
          "base_uri": "https://localhost:8080/"
        },
        "id": "6SYSNwo1XqhI",
        "outputId": "ed8ef47f-6ea6-41c9-f7c3-3aa5303621e2"
      },
      "execution_count": 33,
      "outputs": [
        {
          "output_type": "stream",
          "name": "stdout",
          "text": [
            "Original Matrix:\n",
            " [[ 1.  2.  0.]\n",
            " [ 3.  5. -1.]\n",
            " [ 1.  5.  6.]]\n",
            "Inverse Matrix:\n",
            " [[-11.666667     4.           0.6666667 ]\n",
            " [  6.3333335   -2.          -0.33333334]\n",
            " [ -3.3333335    1.           0.33333334]]\n"
          ]
        }
      ]
    },
    {
      "cell_type": "code",
      "execution_count": 34,
      "metadata": {
        "id": "6AnFZW3xdYp7",
        "colab": {
          "base_uri": "https://localhost:8080/"
        },
        "outputId": "a14145c7-dd6e-4867-d6ba-629f3da1193e"
      },
      "outputs": [
        {
          "output_type": "execute_result",
          "data": {
            "text/plain": [
              "<tf.Tensor: shape=(3, 3), dtype=float32, numpy=\n",
              "array([[ 1.0000000e+00,  0.0000000e+00,  0.0000000e+00],\n",
              "       [ 1.4305115e-06,  1.0000000e+00, -8.9406967e-08],\n",
              "       [ 0.0000000e+00,  0.0000000e+00,  1.0000000e+00]], dtype=float32)>"
            ]
          },
          "metadata": {},
          "execution_count": 34
        }
      ],
      "source": [
        "tensor_two_d@tensor_two_d_inv"
      ]
    },
    {
      "cell_type": "code",
      "source": [
        "s,u,v = tf.linalg.svd(tensor_two_d)\n",
        "print(s)\n",
        "print(u)\n",
        "print(v)"
      ],
      "metadata": {
        "colab": {
          "base_uri": "https://localhost:8080/"
        },
        "id": "4ynCeVCMXRCr",
        "outputId": "8edc1e63-798f-490a-ffa5-0960823b1f58"
      },
      "execution_count": 35,
      "outputs": [
        {
          "output_type": "stream",
          "name": "stdout",
          "text": [
            "tf.Tensor([8.8224125  4.915307   0.06918038], shape=(3,), dtype=float32)\n",
            "tf.Tensor(\n",
            "[[-0.2156587  -0.23862338 -0.9468634 ]\n",
            " [-0.49710995 -0.8077882   0.31679654]\n",
            " [-0.84046024  0.539015    0.0555844 ]], shape=(3, 3), dtype=float32)\n",
            "tf.Tensor(\n",
            "[[-0.2887473  -0.4319106   0.8544462 ]\n",
            " [-0.80694115 -0.37049824 -0.45997542]\n",
            " [-0.515239    0.8223043   0.24154605]], shape=(3, 3), dtype=float32)\n"
          ]
        }
      ]
    },
    {
      "cell_type": "code",
      "source": [
        "import numpy as np\n",
        "\n",
        "A = np.array([[2, 6, 5, 2],\n",
        "              [2, -2, 2, 3],\n",
        "              [1, 5, 4, 0]])\n",
        "\n",
        "print(\"Einsum A =: \\n\")\n",
        "print(np.einsum('ij -> i', A))  # Correct function name: einsum\n",
        "print(\"------------------------------\")\n"
      ],
      "metadata": {
        "colab": {
          "base_uri": "https://localhost:8080/"
        },
        "id": "cFSMyNZdYTiG",
        "outputId": "34dcf9f9-2b87-4133-fe01-705cb2b4af46"
      },
      "execution_count": 37,
      "outputs": [
        {
          "output_type": "stream",
          "name": "stdout",
          "text": [
            "Einsum A =: \n",
            "\n",
            "[15  5 10]\n",
            "------------------------------\n"
          ]
        }
      ]
    },
    {
      "cell_type": "code",
      "source": [
        "import tensorflow as tf\n",
        "\n",
        "batch_size = 2\n",
        "s_q = 4\n",
        "s_k = 5\n",
        "model_size = 8\n",
        "\n",
        "Q = tf.random.uniform((batch_size, s_q, model_size))\n",
        "K = tf.random.uniform((batch_size, s_k, model_size))\n",
        "\n",
        "print(\"Q shape:\", Q.shape)\n",
        "print(\"K shape:\", K.shape)\n"
      ],
      "metadata": {
        "colab": {
          "base_uri": "https://localhost:8080/"
        },
        "id": "A63ulNIOZ7tv",
        "outputId": "19ab9a86-316d-4c29-9ff5-a4ed6439a129"
      },
      "execution_count": 39,
      "outputs": [
        {
          "output_type": "stream",
          "name": "stdout",
          "text": [
            "Q shape: (2, 4, 8)\n",
            "K shape: (2, 5, 8)\n"
          ]
        }
      ]
    },
    {
      "cell_type": "code",
      "source": [
        "x = tf.constant([[[2,3,4,5]]])\n",
        "print(x.shape)\n",
        "x_expanded = tf.expand_dims(x, axis = 0)\n",
        "print(x_expanded)"
      ],
      "metadata": {
        "colab": {
          "base_uri": "https://localhost:8080/"
        },
        "id": "G1lbN85maVPD",
        "outputId": "e9059ba0-b6d8-4813-e3b8-748ba2d6a95f"
      },
      "execution_count": 40,
      "outputs": [
        {
          "output_type": "stream",
          "name": "stdout",
          "text": [
            "(1, 1, 4)\n",
            "tf.Tensor([[[[2 3 4 5]]]], shape=(1, 1, 1, 4), dtype=int32)\n"
          ]
        }
      ]
    },
    {
      "cell_type": "code",
      "source": [
        "x_squeezed = tf.squeeze(x_expanded, axis = 0)\n",
        "for i in range(2):\n",
        "  x_squeezed = tf.squeeze(x_expanded, axis = 0)\n",
        "print(x_squeezed)"
      ],
      "metadata": {
        "colab": {
          "base_uri": "https://localhost:8080/"
        },
        "id": "JMo-3kiAbSi1",
        "outputId": "b07a33e3-6cb0-481d-ba84-68bd441f14f9"
      },
      "execution_count": 41,
      "outputs": [
        {
          "output_type": "stream",
          "name": "stdout",
          "text": [
            "tf.Tensor([[[2 3 4 5]]], shape=(1, 1, 4), dtype=int32)\n"
          ]
        }
      ]
    },
    {
      "cell_type": "code",
      "source": [],
      "metadata": {
        "id": "pdrNaYNvbkLz"
      },
      "execution_count": null,
      "outputs": []
    }
  ],
  "metadata": {
    "accelerator": "GPU",
    "colab": {
      "gpuType": "T4",
      "provenance": [],
      "authorship_tag": "ABX9TyP4+Om824XuZ4FAKKuodgep",
      "include_colab_link": true
    },
    "kernelspec": {
      "display_name": "Python 3",
      "name": "python3"
    },
    "language_info": {
      "name": "python"
    }
  },
  "nbformat": 4,
  "nbformat_minor": 0
}